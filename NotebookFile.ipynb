{
 "cells": [
  {
   "cell_type": "code",
   "execution_count": 1,
   "metadata": {},
   "outputs": [],
   "source": [
    "import pandas as pd   \n",
    "import numpy as np   \n",
    "import matplotlib.pyplot as plt   \n",
    "import seaborn as sns    "
   ]
  },
  {
   "cell_type": "code",
   "execution_count": 2,
   "metadata": {},
   "outputs": [
    {
     "data": {
      "text/html": [
       "<div>\n",
       "<style scoped>\n",
       "    .dataframe tbody tr th:only-of-type {\n",
       "        vertical-align: middle;\n",
       "    }\n",
       "\n",
       "    .dataframe tbody tr th {\n",
       "        vertical-align: top;\n",
       "    }\n",
       "\n",
       "    .dataframe thead th {\n",
       "        text-align: right;\n",
       "    }\n",
       "</style>\n",
       "<table border=\"1\" class=\"dataframe\">\n",
       "  <thead>\n",
       "    <tr style=\"text-align: right;\">\n",
       "      <th></th>\n",
       "      <th>step</th>\n",
       "      <th>type</th>\n",
       "      <th>amount</th>\n",
       "      <th>nameOrig</th>\n",
       "      <th>oldbalanceOrg</th>\n",
       "      <th>newbalanceOrig</th>\n",
       "      <th>nameDest</th>\n",
       "      <th>oldbalanceDest</th>\n",
       "      <th>newbalanceDest</th>\n",
       "      <th>isFraud</th>\n",
       "      <th>isFlaggedFraud</th>\n",
       "    </tr>\n",
       "  </thead>\n",
       "  <tbody>\n",
       "    <tr>\n",
       "      <th>0</th>\n",
       "      <td>1</td>\n",
       "      <td>PAYMENT</td>\n",
       "      <td>9839.64</td>\n",
       "      <td>C1231006815</td>\n",
       "      <td>170136.0</td>\n",
       "      <td>160296.36</td>\n",
       "      <td>M1979787155</td>\n",
       "      <td>0.0</td>\n",
       "      <td>0.0</td>\n",
       "      <td>0</td>\n",
       "      <td>0</td>\n",
       "    </tr>\n",
       "    <tr>\n",
       "      <th>1</th>\n",
       "      <td>1</td>\n",
       "      <td>PAYMENT</td>\n",
       "      <td>1864.28</td>\n",
       "      <td>C1666544295</td>\n",
       "      <td>21249.0</td>\n",
       "      <td>19384.72</td>\n",
       "      <td>M2044282225</td>\n",
       "      <td>0.0</td>\n",
       "      <td>0.0</td>\n",
       "      <td>0</td>\n",
       "      <td>0</td>\n",
       "    </tr>\n",
       "    <tr>\n",
       "      <th>2</th>\n",
       "      <td>1</td>\n",
       "      <td>TRANSFER</td>\n",
       "      <td>181.00</td>\n",
       "      <td>C1305486145</td>\n",
       "      <td>181.0</td>\n",
       "      <td>0.00</td>\n",
       "      <td>C553264065</td>\n",
       "      <td>0.0</td>\n",
       "      <td>0.0</td>\n",
       "      <td>1</td>\n",
       "      <td>0</td>\n",
       "    </tr>\n",
       "    <tr>\n",
       "      <th>3</th>\n",
       "      <td>1</td>\n",
       "      <td>CASH_OUT</td>\n",
       "      <td>181.00</td>\n",
       "      <td>C840083671</td>\n",
       "      <td>181.0</td>\n",
       "      <td>0.00</td>\n",
       "      <td>C38997010</td>\n",
       "      <td>21182.0</td>\n",
       "      <td>0.0</td>\n",
       "      <td>1</td>\n",
       "      <td>0</td>\n",
       "    </tr>\n",
       "    <tr>\n",
       "      <th>4</th>\n",
       "      <td>1</td>\n",
       "      <td>PAYMENT</td>\n",
       "      <td>11668.14</td>\n",
       "      <td>C2048537720</td>\n",
       "      <td>41554.0</td>\n",
       "      <td>29885.86</td>\n",
       "      <td>M1230701703</td>\n",
       "      <td>0.0</td>\n",
       "      <td>0.0</td>\n",
       "      <td>0</td>\n",
       "      <td>0</td>\n",
       "    </tr>\n",
       "  </tbody>\n",
       "</table>\n",
       "</div>"
      ],
      "text/plain": [
       "   step      type    amount     nameOrig  oldbalanceOrg  newbalanceOrig  \\\n",
       "0     1   PAYMENT   9839.64  C1231006815       170136.0       160296.36   \n",
       "1     1   PAYMENT   1864.28  C1666544295        21249.0        19384.72   \n",
       "2     1  TRANSFER    181.00  C1305486145          181.0            0.00   \n",
       "3     1  CASH_OUT    181.00   C840083671          181.0            0.00   \n",
       "4     1   PAYMENT  11668.14  C2048537720        41554.0        29885.86   \n",
       "\n",
       "      nameDest  oldbalanceDest  newbalanceDest  isFraud  isFlaggedFraud  \n",
       "0  M1979787155             0.0             0.0        0               0  \n",
       "1  M2044282225             0.0             0.0        0               0  \n",
       "2   C553264065             0.0             0.0        1               0  \n",
       "3    C38997010         21182.0             0.0        1               0  \n",
       "4  M1230701703             0.0             0.0        0               0  "
      ]
     },
     "execution_count": 2,
     "metadata": {},
     "output_type": "execute_result"
    }
   ],
   "source": [
    "data = pd.read_csv('../dataset/fraud_dataset.csv')\n",
    "# data=pd.DataFrame(data)\n",
    "data.head()"
   ]
  },
  {
   "cell_type": "code",
   "execution_count": 5,
   "metadata": {},
   "outputs": [
    {
     "data": {
      "text/plain": [
       "(6362620, 11)"
      ]
     },
     "execution_count": 5,
     "metadata": {},
     "output_type": "execute_result"
    }
   ],
   "source": [
    "data.shape "
   ]
  },
  {
   "attachments": {},
   "cell_type": "markdown",
   "metadata": {},
   "source": [
    "* <font color='DarkOrange'>step</font> : represents a unit of time where 1 step equals 1 hour\n",
    "* <font color='Pink'>type</font> : type of online transaction\n",
    "* <font color='Orange'>amount</font> : the amount of the transaction\n",
    "* <font color='Yellow'>nameOrig</font> : customer starting the transaction\n",
    "* <font color='Purple'>oldbalanceOrg</font> : balance before the transaction\n",
    "* <font color='Green'>newbalanceOrig</font> : balance after the transaction\n",
    "* <font color='Brown'>nameDest</font> : recipient of the transaction\n",
    "* <font color='Tomato'>oldbalanceDest</font> : initial balance of recipient before the transaction\n",
    "* <font color='DarkKhaki'>newbalanceDest</font> : the new balance of recipient after the transaction\n",
    "* <font color='red'>isFraud</font> : fraud transaction"
   ]
  },
  {
   "cell_type": "code",
   "execution_count": 6,
   "metadata": {},
   "outputs": [
    {
     "name": "stdout",
     "output_type": "stream",
     "text": [
      "No columns with infinite values.\n",
      "No columns with NaN values.\n"
     ]
    }
   ],
   "source": [
    "numeric_df = data.select_dtypes(include=[np.number])\n",
    "\n",
    "infinite_columns = numeric_df.columns.to_series()[np.isinf(numeric_df).any()]\n",
    "if not infinite_columns.empty:\n",
    "    print(\"Columns with infinite values:\", infinite_columns.index.tolist())\n",
    "else:\n",
    "    print(\"No columns with infinite values.\")\n",
    "\n",
    "\n",
    "nan_columns = numeric_df.columns[numeric_df.isna().any()].tolist()\n",
    "if nan_columns:\n",
    "    print(\"Columns with NaN values:\", nan_columns)\n",
    "else:\n",
    "    print(\"No columns with NaN values.\")"
   ]
  },
  {
   "cell_type": "code",
   "execution_count": 7,
   "metadata": {},
   "outputs": [
    {
     "name": "stdout",
     "output_type": "stream",
     "text": [
      "step              0\n",
      "type              0\n",
      "amount            0\n",
      "nameOrig          0\n",
      "oldbalanceOrg     0\n",
      "newbalanceOrig    0\n",
      "nameDest          0\n",
      "oldbalanceDest    0\n",
      "newbalanceDest    0\n",
      "isFraud           0\n",
      "isFlaggedFraud    0\n",
      "dtype: int64\n"
     ]
    }
   ],
   "source": [
    "print(data.isnull().sum()) "
   ]
  },
  {
   "cell_type": "code",
   "execution_count": 8,
   "metadata": {},
   "outputs": [
    {
     "name": "stdout",
     "output_type": "stream",
     "text": [
      "<class 'pandas.core.frame.DataFrame'>\n",
      "RangeIndex: 6362620 entries, 0 to 6362619\n",
      "Data columns (total 11 columns):\n",
      " #   Column          Dtype  \n",
      "---  ------          -----  \n",
      " 0   step            int64  \n",
      " 1   type            object \n",
      " 2   amount          float64\n",
      " 3   nameOrig        object \n",
      " 4   oldbalanceOrg   float64\n",
      " 5   newbalanceOrig  float64\n",
      " 6   nameDest        object \n",
      " 7   oldbalanceDest  float64\n",
      " 8   newbalanceDest  float64\n",
      " 9   isFraud         int64  \n",
      " 10  isFlaggedFraud  int64  \n",
      "dtypes: float64(5), int64(3), object(3)\n",
      "memory usage: 534.0+ MB\n",
      "None\n"
     ]
    }
   ],
   "source": [
    "print(data.info())"
   ]
  },
  {
   "cell_type": "code",
   "execution_count": 9,
   "metadata": {},
   "outputs": [
    {
     "name": "stdout",
     "output_type": "stream",
     "text": [
      "type\n",
      "CASH_OUT    2237500\n",
      "PAYMENT     2151495\n",
      "CASH_IN     1399284\n",
      "TRANSFER     532909\n",
      "DEBIT         41432\n",
      "Name: count, dtype: int64\n"
     ]
    }
   ],
   "source": [
    "# Exploring transaction type\n",
    "print(data.type.value_counts())"
   ]
  },
  {
   "cell_type": "code",
   "execution_count": 10,
   "metadata": {},
   "outputs": [
    {
     "data": {
      "application/vnd.plotly.v1+json": {
       "config": {
        "plotlyServerURL": "https://plot.ly"
       },
       "data": [
        {
         "domain": {
          "x": [
           0,
           1
          ],
          "y": [
           0,
           1
          ]
         },
         "hole": 0.5,
         "hovertemplate": "label=%{label}<br>value=%{value}<extra></extra>",
         "labels": [
          "CASH_OUT",
          "PAYMENT",
          "CASH_IN",
          "TRANSFER",
          "DEBIT"
         ],
         "legendgroup": "",
         "name": "",
         "showlegend": true,
         "type": "pie",
         "values": [
          2237500,
          2151495,
          1399284,
          532909,
          41432
         ]
        }
       ],
       "layout": {
        "legend": {
         "tracegroupgap": 0
        },
        "template": {
         "data": {
          "bar": [
           {
            "error_x": {
             "color": "#2a3f5f"
            },
            "error_y": {
             "color": "#2a3f5f"
            },
            "marker": {
             "line": {
              "color": "#E5ECF6",
              "width": 0.5
             },
             "pattern": {
              "fillmode": "overlay",
              "size": 10,
              "solidity": 0.2
             }
            },
            "type": "bar"
           }
          ],
          "barpolar": [
           {
            "marker": {
             "line": {
              "color": "#E5ECF6",
              "width": 0.5
             },
             "pattern": {
              "fillmode": "overlay",
              "size": 10,
              "solidity": 0.2
             }
            },
            "type": "barpolar"
           }
          ],
          "carpet": [
           {
            "aaxis": {
             "endlinecolor": "#2a3f5f",
             "gridcolor": "white",
             "linecolor": "white",
             "minorgridcolor": "white",
             "startlinecolor": "#2a3f5f"
            },
            "baxis": {
             "endlinecolor": "#2a3f5f",
             "gridcolor": "white",
             "linecolor": "white",
             "minorgridcolor": "white",
             "startlinecolor": "#2a3f5f"
            },
            "type": "carpet"
           }
          ],
          "choropleth": [
           {
            "colorbar": {
             "outlinewidth": 0,
             "ticks": ""
            },
            "type": "choropleth"
           }
          ],
          "contour": [
           {
            "colorbar": {
             "outlinewidth": 0,
             "ticks": ""
            },
            "colorscale": [
             [
              0,
              "#0d0887"
             ],
             [
              0.1111111111111111,
              "#46039f"
             ],
             [
              0.2222222222222222,
              "#7201a8"
             ],
             [
              0.3333333333333333,
              "#9c179e"
             ],
             [
              0.4444444444444444,
              "#bd3786"
             ],
             [
              0.5555555555555556,
              "#d8576b"
             ],
             [
              0.6666666666666666,
              "#ed7953"
             ],
             [
              0.7777777777777778,
              "#fb9f3a"
             ],
             [
              0.8888888888888888,
              "#fdca26"
             ],
             [
              1,
              "#f0f921"
             ]
            ],
            "type": "contour"
           }
          ],
          "contourcarpet": [
           {
            "colorbar": {
             "outlinewidth": 0,
             "ticks": ""
            },
            "type": "contourcarpet"
           }
          ],
          "heatmap": [
           {
            "colorbar": {
             "outlinewidth": 0,
             "ticks": ""
            },
            "colorscale": [
             [
              0,
              "#0d0887"
             ],
             [
              0.1111111111111111,
              "#46039f"
             ],
             [
              0.2222222222222222,
              "#7201a8"
             ],
             [
              0.3333333333333333,
              "#9c179e"
             ],
             [
              0.4444444444444444,
              "#bd3786"
             ],
             [
              0.5555555555555556,
              "#d8576b"
             ],
             [
              0.6666666666666666,
              "#ed7953"
             ],
             [
              0.7777777777777778,
              "#fb9f3a"
             ],
             [
              0.8888888888888888,
              "#fdca26"
             ],
             [
              1,
              "#f0f921"
             ]
            ],
            "type": "heatmap"
           }
          ],
          "heatmapgl": [
           {
            "colorbar": {
             "outlinewidth": 0,
             "ticks": ""
            },
            "colorscale": [
             [
              0,
              "#0d0887"
             ],
             [
              0.1111111111111111,
              "#46039f"
             ],
             [
              0.2222222222222222,
              "#7201a8"
             ],
             [
              0.3333333333333333,
              "#9c179e"
             ],
             [
              0.4444444444444444,
              "#bd3786"
             ],
             [
              0.5555555555555556,
              "#d8576b"
             ],
             [
              0.6666666666666666,
              "#ed7953"
             ],
             [
              0.7777777777777778,
              "#fb9f3a"
             ],
             [
              0.8888888888888888,
              "#fdca26"
             ],
             [
              1,
              "#f0f921"
             ]
            ],
            "type": "heatmapgl"
           }
          ],
          "histogram": [
           {
            "marker": {
             "pattern": {
              "fillmode": "overlay",
              "size": 10,
              "solidity": 0.2
             }
            },
            "type": "histogram"
           }
          ],
          "histogram2d": [
           {
            "colorbar": {
             "outlinewidth": 0,
             "ticks": ""
            },
            "colorscale": [
             [
              0,
              "#0d0887"
             ],
             [
              0.1111111111111111,
              "#46039f"
             ],
             [
              0.2222222222222222,
              "#7201a8"
             ],
             [
              0.3333333333333333,
              "#9c179e"
             ],
             [
              0.4444444444444444,
              "#bd3786"
             ],
             [
              0.5555555555555556,
              "#d8576b"
             ],
             [
              0.6666666666666666,
              "#ed7953"
             ],
             [
              0.7777777777777778,
              "#fb9f3a"
             ],
             [
              0.8888888888888888,
              "#fdca26"
             ],
             [
              1,
              "#f0f921"
             ]
            ],
            "type": "histogram2d"
           }
          ],
          "histogram2dcontour": [
           {
            "colorbar": {
             "outlinewidth": 0,
             "ticks": ""
            },
            "colorscale": [
             [
              0,
              "#0d0887"
             ],
             [
              0.1111111111111111,
              "#46039f"
             ],
             [
              0.2222222222222222,
              "#7201a8"
             ],
             [
              0.3333333333333333,
              "#9c179e"
             ],
             [
              0.4444444444444444,
              "#bd3786"
             ],
             [
              0.5555555555555556,
              "#d8576b"
             ],
             [
              0.6666666666666666,
              "#ed7953"
             ],
             [
              0.7777777777777778,
              "#fb9f3a"
             ],
             [
              0.8888888888888888,
              "#fdca26"
             ],
             [
              1,
              "#f0f921"
             ]
            ],
            "type": "histogram2dcontour"
           }
          ],
          "mesh3d": [
           {
            "colorbar": {
             "outlinewidth": 0,
             "ticks": ""
            },
            "type": "mesh3d"
           }
          ],
          "parcoords": [
           {
            "line": {
             "colorbar": {
              "outlinewidth": 0,
              "ticks": ""
             }
            },
            "type": "parcoords"
           }
          ],
          "pie": [
           {
            "automargin": true,
            "type": "pie"
           }
          ],
          "scatter": [
           {
            "fillpattern": {
             "fillmode": "overlay",
             "size": 10,
             "solidity": 0.2
            },
            "type": "scatter"
           }
          ],
          "scatter3d": [
           {
            "line": {
             "colorbar": {
              "outlinewidth": 0,
              "ticks": ""
             }
            },
            "marker": {
             "colorbar": {
              "outlinewidth": 0,
              "ticks": ""
             }
            },
            "type": "scatter3d"
           }
          ],
          "scattercarpet": [
           {
            "marker": {
             "colorbar": {
              "outlinewidth": 0,
              "ticks": ""
             }
            },
            "type": "scattercarpet"
           }
          ],
          "scattergeo": [
           {
            "marker": {
             "colorbar": {
              "outlinewidth": 0,
              "ticks": ""
             }
            },
            "type": "scattergeo"
           }
          ],
          "scattergl": [
           {
            "marker": {
             "colorbar": {
              "outlinewidth": 0,
              "ticks": ""
             }
            },
            "type": "scattergl"
           }
          ],
          "scattermapbox": [
           {
            "marker": {
             "colorbar": {
              "outlinewidth": 0,
              "ticks": ""
             }
            },
            "type": "scattermapbox"
           }
          ],
          "scatterpolar": [
           {
            "marker": {
             "colorbar": {
              "outlinewidth": 0,
              "ticks": ""
             }
            },
            "type": "scatterpolar"
           }
          ],
          "scatterpolargl": [
           {
            "marker": {
             "colorbar": {
              "outlinewidth": 0,
              "ticks": ""
             }
            },
            "type": "scatterpolargl"
           }
          ],
          "scatterternary": [
           {
            "marker": {
             "colorbar": {
              "outlinewidth": 0,
              "ticks": ""
             }
            },
            "type": "scatterternary"
           }
          ],
          "surface": [
           {
            "colorbar": {
             "outlinewidth": 0,
             "ticks": ""
            },
            "colorscale": [
             [
              0,
              "#0d0887"
             ],
             [
              0.1111111111111111,
              "#46039f"
             ],
             [
              0.2222222222222222,
              "#7201a8"
             ],
             [
              0.3333333333333333,
              "#9c179e"
             ],
             [
              0.4444444444444444,
              "#bd3786"
             ],
             [
              0.5555555555555556,
              "#d8576b"
             ],
             [
              0.6666666666666666,
              "#ed7953"
             ],
             [
              0.7777777777777778,
              "#fb9f3a"
             ],
             [
              0.8888888888888888,
              "#fdca26"
             ],
             [
              1,
              "#f0f921"
             ]
            ],
            "type": "surface"
           }
          ],
          "table": [
           {
            "cells": {
             "fill": {
              "color": "#EBF0F8"
             },
             "line": {
              "color": "white"
             }
            },
            "header": {
             "fill": {
              "color": "#C8D4E3"
             },
             "line": {
              "color": "white"
             }
            },
            "type": "table"
           }
          ]
         },
         "layout": {
          "annotationdefaults": {
           "arrowcolor": "#2a3f5f",
           "arrowhead": 0,
           "arrowwidth": 1
          },
          "autotypenumbers": "strict",
          "coloraxis": {
           "colorbar": {
            "outlinewidth": 0,
            "ticks": ""
           }
          },
          "colorscale": {
           "diverging": [
            [
             0,
             "#8e0152"
            ],
            [
             0.1,
             "#c51b7d"
            ],
            [
             0.2,
             "#de77ae"
            ],
            [
             0.3,
             "#f1b6da"
            ],
            [
             0.4,
             "#fde0ef"
            ],
            [
             0.5,
             "#f7f7f7"
            ],
            [
             0.6,
             "#e6f5d0"
            ],
            [
             0.7,
             "#b8e186"
            ],
            [
             0.8,
             "#7fbc41"
            ],
            [
             0.9,
             "#4d9221"
            ],
            [
             1,
             "#276419"
            ]
           ],
           "sequential": [
            [
             0,
             "#0d0887"
            ],
            [
             0.1111111111111111,
             "#46039f"
            ],
            [
             0.2222222222222222,
             "#7201a8"
            ],
            [
             0.3333333333333333,
             "#9c179e"
            ],
            [
             0.4444444444444444,
             "#bd3786"
            ],
            [
             0.5555555555555556,
             "#d8576b"
            ],
            [
             0.6666666666666666,
             "#ed7953"
            ],
            [
             0.7777777777777778,
             "#fb9f3a"
            ],
            [
             0.8888888888888888,
             "#fdca26"
            ],
            [
             1,
             "#f0f921"
            ]
           ],
           "sequentialminus": [
            [
             0,
             "#0d0887"
            ],
            [
             0.1111111111111111,
             "#46039f"
            ],
            [
             0.2222222222222222,
             "#7201a8"
            ],
            [
             0.3333333333333333,
             "#9c179e"
            ],
            [
             0.4444444444444444,
             "#bd3786"
            ],
            [
             0.5555555555555556,
             "#d8576b"
            ],
            [
             0.6666666666666666,
             "#ed7953"
            ],
            [
             0.7777777777777778,
             "#fb9f3a"
            ],
            [
             0.8888888888888888,
             "#fdca26"
            ],
            [
             1,
             "#f0f921"
            ]
           ]
          },
          "colorway": [
           "#636efa",
           "#EF553B",
           "#00cc96",
           "#ab63fa",
           "#FFA15A",
           "#19d3f3",
           "#FF6692",
           "#B6E880",
           "#FF97FF",
           "#FECB52"
          ],
          "font": {
           "color": "#2a3f5f"
          },
          "geo": {
           "bgcolor": "white",
           "lakecolor": "white",
           "landcolor": "#E5ECF6",
           "showlakes": true,
           "showland": true,
           "subunitcolor": "white"
          },
          "hoverlabel": {
           "align": "left"
          },
          "hovermode": "closest",
          "mapbox": {
           "style": "light"
          },
          "paper_bgcolor": "white",
          "plot_bgcolor": "#E5ECF6",
          "polar": {
           "angularaxis": {
            "gridcolor": "white",
            "linecolor": "white",
            "ticks": ""
           },
           "bgcolor": "#E5ECF6",
           "radialaxis": {
            "gridcolor": "white",
            "linecolor": "white",
            "ticks": ""
           }
          },
          "scene": {
           "xaxis": {
            "backgroundcolor": "#E5ECF6",
            "gridcolor": "white",
            "gridwidth": 2,
            "linecolor": "white",
            "showbackground": true,
            "ticks": "",
            "zerolinecolor": "white"
           },
           "yaxis": {
            "backgroundcolor": "#E5ECF6",
            "gridcolor": "white",
            "gridwidth": 2,
            "linecolor": "white",
            "showbackground": true,
            "ticks": "",
            "zerolinecolor": "white"
           },
           "zaxis": {
            "backgroundcolor": "#E5ECF6",
            "gridcolor": "white",
            "gridwidth": 2,
            "linecolor": "white",
            "showbackground": true,
            "ticks": "",
            "zerolinecolor": "white"
           }
          },
          "shapedefaults": {
           "line": {
            "color": "#2a3f5f"
           }
          },
          "ternary": {
           "aaxis": {
            "gridcolor": "white",
            "linecolor": "white",
            "ticks": ""
           },
           "baxis": {
            "gridcolor": "white",
            "linecolor": "white",
            "ticks": ""
           },
           "bgcolor": "#E5ECF6",
           "caxis": {
            "gridcolor": "white",
            "linecolor": "white",
            "ticks": ""
           }
          },
          "title": {
           "x": 0.05
          },
          "xaxis": {
           "automargin": true,
           "gridcolor": "white",
           "linecolor": "white",
           "ticks": "",
           "title": {
            "standoff": 15
           },
           "zerolinecolor": "white",
           "zerolinewidth": 2
          },
          "yaxis": {
           "automargin": true,
           "gridcolor": "white",
           "linecolor": "white",
           "ticks": "",
           "title": {
            "standoff": 15
           },
           "zerolinecolor": "white",
           "zerolinewidth": 2
          }
         }
        },
        "title": {
         "text": "Distribution of Transaction Type"
        }
       }
      }
     },
     "metadata": {},
     "output_type": "display_data"
    }
   ],
   "source": [
    "import plotly.express as px\n",
    "type = data[\"type\"].value_counts()\n",
    "transactions = type.index\n",
    "quantity = type.values\n",
    "\n",
    "figure = px.pie(data,\n",
    "                values=quantity,\n",
    "                names=transactions, hole=0.5,\n",
    "                title=\"Distribution of Transaction Type\")\n",
    "figure.show()"
   ]
  },
  {
   "cell_type": "code",
   "execution_count": 11,
   "metadata": {},
   "outputs": [
    {
     "data": {
      "application/vnd.plotly.v1+json": {
       "config": {
        "plotlyServerURL": "https://plot.ly"
       },
       "data": [
        {
         "alignmentgroup": "True",
         "hovertemplate": "color=CASH_OUT<br>Transaction Type=%{x}<br>Quantity=%{y}<extra></extra>",
         "legendgroup": "CASH_OUT",
         "marker": {
          "color": "#636efa",
          "pattern": {
           "shape": ""
          }
         },
         "name": "CASH_OUT",
         "offsetgroup": "CASH_OUT",
         "orientation": "v",
         "showlegend": true,
         "textposition": "auto",
         "type": "bar",
         "x": [
          "CASH_OUT"
         ],
         "xaxis": "x",
         "y": [
          2237500
         ],
         "yaxis": "y"
        },
        {
         "alignmentgroup": "True",
         "hovertemplate": "color=PAYMENT<br>Transaction Type=%{x}<br>Quantity=%{y}<extra></extra>",
         "legendgroup": "PAYMENT",
         "marker": {
          "color": "#EF553B",
          "pattern": {
           "shape": ""
          }
         },
         "name": "PAYMENT",
         "offsetgroup": "PAYMENT",
         "orientation": "v",
         "showlegend": true,
         "textposition": "auto",
         "type": "bar",
         "x": [
          "PAYMENT"
         ],
         "xaxis": "x",
         "y": [
          2151495
         ],
         "yaxis": "y"
        },
        {
         "alignmentgroup": "True",
         "hovertemplate": "color=CASH_IN<br>Transaction Type=%{x}<br>Quantity=%{y}<extra></extra>",
         "legendgroup": "CASH_IN",
         "marker": {
          "color": "#00cc96",
          "pattern": {
           "shape": ""
          }
         },
         "name": "CASH_IN",
         "offsetgroup": "CASH_IN",
         "orientation": "v",
         "showlegend": true,
         "textposition": "auto",
         "type": "bar",
         "x": [
          "CASH_IN"
         ],
         "xaxis": "x",
         "y": [
          1399284
         ],
         "yaxis": "y"
        },
        {
         "alignmentgroup": "True",
         "hovertemplate": "color=TRANSFER<br>Transaction Type=%{x}<br>Quantity=%{y}<extra></extra>",
         "legendgroup": "TRANSFER",
         "marker": {
          "color": "#ab63fa",
          "pattern": {
           "shape": ""
          }
         },
         "name": "TRANSFER",
         "offsetgroup": "TRANSFER",
         "orientation": "v",
         "showlegend": true,
         "textposition": "auto",
         "type": "bar",
         "x": [
          "TRANSFER"
         ],
         "xaxis": "x",
         "y": [
          532909
         ],
         "yaxis": "y"
        },
        {
         "alignmentgroup": "True",
         "hovertemplate": "color=DEBIT<br>Transaction Type=%{x}<br>Quantity=%{y}<extra></extra>",
         "legendgroup": "DEBIT",
         "marker": {
          "color": "#FFA15A",
          "pattern": {
           "shape": ""
          }
         },
         "name": "DEBIT",
         "offsetgroup": "DEBIT",
         "orientation": "v",
         "showlegend": true,
         "textposition": "auto",
         "type": "bar",
         "x": [
          "DEBIT"
         ],
         "xaxis": "x",
         "y": [
          41432
         ],
         "yaxis": "y"
        }
       ],
       "layout": {
        "barmode": "relative",
        "legend": {
         "title": {
          "text": "color"
         },
         "tracegroupgap": 0
        },
        "template": {
         "data": {
          "bar": [
           {
            "error_x": {
             "color": "#2a3f5f"
            },
            "error_y": {
             "color": "#2a3f5f"
            },
            "marker": {
             "line": {
              "color": "#E5ECF6",
              "width": 0.5
             },
             "pattern": {
              "fillmode": "overlay",
              "size": 10,
              "solidity": 0.2
             }
            },
            "type": "bar"
           }
          ],
          "barpolar": [
           {
            "marker": {
             "line": {
              "color": "#E5ECF6",
              "width": 0.5
             },
             "pattern": {
              "fillmode": "overlay",
              "size": 10,
              "solidity": 0.2
             }
            },
            "type": "barpolar"
           }
          ],
          "carpet": [
           {
            "aaxis": {
             "endlinecolor": "#2a3f5f",
             "gridcolor": "white",
             "linecolor": "white",
             "minorgridcolor": "white",
             "startlinecolor": "#2a3f5f"
            },
            "baxis": {
             "endlinecolor": "#2a3f5f",
             "gridcolor": "white",
             "linecolor": "white",
             "minorgridcolor": "white",
             "startlinecolor": "#2a3f5f"
            },
            "type": "carpet"
           }
          ],
          "choropleth": [
           {
            "colorbar": {
             "outlinewidth": 0,
             "ticks": ""
            },
            "type": "choropleth"
           }
          ],
          "contour": [
           {
            "colorbar": {
             "outlinewidth": 0,
             "ticks": ""
            },
            "colorscale": [
             [
              0,
              "#0d0887"
             ],
             [
              0.1111111111111111,
              "#46039f"
             ],
             [
              0.2222222222222222,
              "#7201a8"
             ],
             [
              0.3333333333333333,
              "#9c179e"
             ],
             [
              0.4444444444444444,
              "#bd3786"
             ],
             [
              0.5555555555555556,
              "#d8576b"
             ],
             [
              0.6666666666666666,
              "#ed7953"
             ],
             [
              0.7777777777777778,
              "#fb9f3a"
             ],
             [
              0.8888888888888888,
              "#fdca26"
             ],
             [
              1,
              "#f0f921"
             ]
            ],
            "type": "contour"
           }
          ],
          "contourcarpet": [
           {
            "colorbar": {
             "outlinewidth": 0,
             "ticks": ""
            },
            "type": "contourcarpet"
           }
          ],
          "heatmap": [
           {
            "colorbar": {
             "outlinewidth": 0,
             "ticks": ""
            },
            "colorscale": [
             [
              0,
              "#0d0887"
             ],
             [
              0.1111111111111111,
              "#46039f"
             ],
             [
              0.2222222222222222,
              "#7201a8"
             ],
             [
              0.3333333333333333,
              "#9c179e"
             ],
             [
              0.4444444444444444,
              "#bd3786"
             ],
             [
              0.5555555555555556,
              "#d8576b"
             ],
             [
              0.6666666666666666,
              "#ed7953"
             ],
             [
              0.7777777777777778,
              "#fb9f3a"
             ],
             [
              0.8888888888888888,
              "#fdca26"
             ],
             [
              1,
              "#f0f921"
             ]
            ],
            "type": "heatmap"
           }
          ],
          "heatmapgl": [
           {
            "colorbar": {
             "outlinewidth": 0,
             "ticks": ""
            },
            "colorscale": [
             [
              0,
              "#0d0887"
             ],
             [
              0.1111111111111111,
              "#46039f"
             ],
             [
              0.2222222222222222,
              "#7201a8"
             ],
             [
              0.3333333333333333,
              "#9c179e"
             ],
             [
              0.4444444444444444,
              "#bd3786"
             ],
             [
              0.5555555555555556,
              "#d8576b"
             ],
             [
              0.6666666666666666,
              "#ed7953"
             ],
             [
              0.7777777777777778,
              "#fb9f3a"
             ],
             [
              0.8888888888888888,
              "#fdca26"
             ],
             [
              1,
              "#f0f921"
             ]
            ],
            "type": "heatmapgl"
           }
          ],
          "histogram": [
           {
            "marker": {
             "pattern": {
              "fillmode": "overlay",
              "size": 10,
              "solidity": 0.2
             }
            },
            "type": "histogram"
           }
          ],
          "histogram2d": [
           {
            "colorbar": {
             "outlinewidth": 0,
             "ticks": ""
            },
            "colorscale": [
             [
              0,
              "#0d0887"
             ],
             [
              0.1111111111111111,
              "#46039f"
             ],
             [
              0.2222222222222222,
              "#7201a8"
             ],
             [
              0.3333333333333333,
              "#9c179e"
             ],
             [
              0.4444444444444444,
              "#bd3786"
             ],
             [
              0.5555555555555556,
              "#d8576b"
             ],
             [
              0.6666666666666666,
              "#ed7953"
             ],
             [
              0.7777777777777778,
              "#fb9f3a"
             ],
             [
              0.8888888888888888,
              "#fdca26"
             ],
             [
              1,
              "#f0f921"
             ]
            ],
            "type": "histogram2d"
           }
          ],
          "histogram2dcontour": [
           {
            "colorbar": {
             "outlinewidth": 0,
             "ticks": ""
            },
            "colorscale": [
             [
              0,
              "#0d0887"
             ],
             [
              0.1111111111111111,
              "#46039f"
             ],
             [
              0.2222222222222222,
              "#7201a8"
             ],
             [
              0.3333333333333333,
              "#9c179e"
             ],
             [
              0.4444444444444444,
              "#bd3786"
             ],
             [
              0.5555555555555556,
              "#d8576b"
             ],
             [
              0.6666666666666666,
              "#ed7953"
             ],
             [
              0.7777777777777778,
              "#fb9f3a"
             ],
             [
              0.8888888888888888,
              "#fdca26"
             ],
             [
              1,
              "#f0f921"
             ]
            ],
            "type": "histogram2dcontour"
           }
          ],
          "mesh3d": [
           {
            "colorbar": {
             "outlinewidth": 0,
             "ticks": ""
            },
            "type": "mesh3d"
           }
          ],
          "parcoords": [
           {
            "line": {
             "colorbar": {
              "outlinewidth": 0,
              "ticks": ""
             }
            },
            "type": "parcoords"
           }
          ],
          "pie": [
           {
            "automargin": true,
            "type": "pie"
           }
          ],
          "scatter": [
           {
            "fillpattern": {
             "fillmode": "overlay",
             "size": 10,
             "solidity": 0.2
            },
            "type": "scatter"
           }
          ],
          "scatter3d": [
           {
            "line": {
             "colorbar": {
              "outlinewidth": 0,
              "ticks": ""
             }
            },
            "marker": {
             "colorbar": {
              "outlinewidth": 0,
              "ticks": ""
             }
            },
            "type": "scatter3d"
           }
          ],
          "scattercarpet": [
           {
            "marker": {
             "colorbar": {
              "outlinewidth": 0,
              "ticks": ""
             }
            },
            "type": "scattercarpet"
           }
          ],
          "scattergeo": [
           {
            "marker": {
             "colorbar": {
              "outlinewidth": 0,
              "ticks": ""
             }
            },
            "type": "scattergeo"
           }
          ],
          "scattergl": [
           {
            "marker": {
             "colorbar": {
              "outlinewidth": 0,
              "ticks": ""
             }
            },
            "type": "scattergl"
           }
          ],
          "scattermapbox": [
           {
            "marker": {
             "colorbar": {
              "outlinewidth": 0,
              "ticks": ""
             }
            },
            "type": "scattermapbox"
           }
          ],
          "scatterpolar": [
           {
            "marker": {
             "colorbar": {
              "outlinewidth": 0,
              "ticks": ""
             }
            },
            "type": "scatterpolar"
           }
          ],
          "scatterpolargl": [
           {
            "marker": {
             "colorbar": {
              "outlinewidth": 0,
              "ticks": ""
             }
            },
            "type": "scatterpolargl"
           }
          ],
          "scatterternary": [
           {
            "marker": {
             "colorbar": {
              "outlinewidth": 0,
              "ticks": ""
             }
            },
            "type": "scatterternary"
           }
          ],
          "surface": [
           {
            "colorbar": {
             "outlinewidth": 0,
             "ticks": ""
            },
            "colorscale": [
             [
              0,
              "#0d0887"
             ],
             [
              0.1111111111111111,
              "#46039f"
             ],
             [
              0.2222222222222222,
              "#7201a8"
             ],
             [
              0.3333333333333333,
              "#9c179e"
             ],
             [
              0.4444444444444444,
              "#bd3786"
             ],
             [
              0.5555555555555556,
              "#d8576b"
             ],
             [
              0.6666666666666666,
              "#ed7953"
             ],
             [
              0.7777777777777778,
              "#fb9f3a"
             ],
             [
              0.8888888888888888,
              "#fdca26"
             ],
             [
              1,
              "#f0f921"
             ]
            ],
            "type": "surface"
           }
          ],
          "table": [
           {
            "cells": {
             "fill": {
              "color": "#EBF0F8"
             },
             "line": {
              "color": "white"
             }
            },
            "header": {
             "fill": {
              "color": "#C8D4E3"
             },
             "line": {
              "color": "white"
             }
            },
            "type": "table"
           }
          ]
         },
         "layout": {
          "annotationdefaults": {
           "arrowcolor": "#2a3f5f",
           "arrowhead": 0,
           "arrowwidth": 1
          },
          "autotypenumbers": "strict",
          "coloraxis": {
           "colorbar": {
            "outlinewidth": 0,
            "ticks": ""
           }
          },
          "colorscale": {
           "diverging": [
            [
             0,
             "#8e0152"
            ],
            [
             0.1,
             "#c51b7d"
            ],
            [
             0.2,
             "#de77ae"
            ],
            [
             0.3,
             "#f1b6da"
            ],
            [
             0.4,
             "#fde0ef"
            ],
            [
             0.5,
             "#f7f7f7"
            ],
            [
             0.6,
             "#e6f5d0"
            ],
            [
             0.7,
             "#b8e186"
            ],
            [
             0.8,
             "#7fbc41"
            ],
            [
             0.9,
             "#4d9221"
            ],
            [
             1,
             "#276419"
            ]
           ],
           "sequential": [
            [
             0,
             "#0d0887"
            ],
            [
             0.1111111111111111,
             "#46039f"
            ],
            [
             0.2222222222222222,
             "#7201a8"
            ],
            [
             0.3333333333333333,
             "#9c179e"
            ],
            [
             0.4444444444444444,
             "#bd3786"
            ],
            [
             0.5555555555555556,
             "#d8576b"
            ],
            [
             0.6666666666666666,
             "#ed7953"
            ],
            [
             0.7777777777777778,
             "#fb9f3a"
            ],
            [
             0.8888888888888888,
             "#fdca26"
            ],
            [
             1,
             "#f0f921"
            ]
           ],
           "sequentialminus": [
            [
             0,
             "#0d0887"
            ],
            [
             0.1111111111111111,
             "#46039f"
            ],
            [
             0.2222222222222222,
             "#7201a8"
            ],
            [
             0.3333333333333333,
             "#9c179e"
            ],
            [
             0.4444444444444444,
             "#bd3786"
            ],
            [
             0.5555555555555556,
             "#d8576b"
            ],
            [
             0.6666666666666666,
             "#ed7953"
            ],
            [
             0.7777777777777778,
             "#fb9f3a"
            ],
            [
             0.8888888888888888,
             "#fdca26"
            ],
            [
             1,
             "#f0f921"
            ]
           ]
          },
          "colorway": [
           "#636efa",
           "#EF553B",
           "#00cc96",
           "#ab63fa",
           "#FFA15A",
           "#19d3f3",
           "#FF6692",
           "#B6E880",
           "#FF97FF",
           "#FECB52"
          ],
          "font": {
           "color": "#2a3f5f"
          },
          "geo": {
           "bgcolor": "white",
           "lakecolor": "white",
           "landcolor": "#E5ECF6",
           "showlakes": true,
           "showland": true,
           "subunitcolor": "white"
          },
          "hoverlabel": {
           "align": "left"
          },
          "hovermode": "closest",
          "mapbox": {
           "style": "light"
          },
          "paper_bgcolor": "white",
          "plot_bgcolor": "#E5ECF6",
          "polar": {
           "angularaxis": {
            "gridcolor": "white",
            "linecolor": "white",
            "ticks": ""
           },
           "bgcolor": "#E5ECF6",
           "radialaxis": {
            "gridcolor": "white",
            "linecolor": "white",
            "ticks": ""
           }
          },
          "scene": {
           "xaxis": {
            "backgroundcolor": "#E5ECF6",
            "gridcolor": "white",
            "gridwidth": 2,
            "linecolor": "white",
            "showbackground": true,
            "ticks": "",
            "zerolinecolor": "white"
           },
           "yaxis": {
            "backgroundcolor": "#E5ECF6",
            "gridcolor": "white",
            "gridwidth": 2,
            "linecolor": "white",
            "showbackground": true,
            "ticks": "",
            "zerolinecolor": "white"
           },
           "zaxis": {
            "backgroundcolor": "#E5ECF6",
            "gridcolor": "white",
            "gridwidth": 2,
            "linecolor": "white",
            "showbackground": true,
            "ticks": "",
            "zerolinecolor": "white"
           }
          },
          "shapedefaults": {
           "line": {
            "color": "#2a3f5f"
           }
          },
          "ternary": {
           "aaxis": {
            "gridcolor": "white",
            "linecolor": "white",
            "ticks": ""
           },
           "baxis": {
            "gridcolor": "white",
            "linecolor": "white",
            "ticks": ""
           },
           "bgcolor": "#E5ECF6",
           "caxis": {
            "gridcolor": "white",
            "linecolor": "white",
            "ticks": ""
           }
          },
          "title": {
           "x": 0.05
          },
          "xaxis": {
           "automargin": true,
           "gridcolor": "white",
           "linecolor": "white",
           "ticks": "",
           "title": {
            "standoff": 15
           },
           "zerolinecolor": "white",
           "zerolinewidth": 2
          },
          "yaxis": {
           "automargin": true,
           "gridcolor": "white",
           "linecolor": "white",
           "ticks": "",
           "title": {
            "standoff": 15
           },
           "zerolinecolor": "white",
           "zerolinewidth": 2
          }
         }
        },
        "title": {
         "text": "Distribution of Transaction Type"
        },
        "xaxis": {
         "anchor": "y",
         "domain": [
          0,
          1
         ],
         "title": {
          "text": "Transaction Type"
         }
        },
        "yaxis": {
         "anchor": "x",
         "domain": [
          0,
          1
         ],
         "title": {
          "text": "Quantity"
         }
        }
       }
      }
     },
     "metadata": {},
     "output_type": "display_data"
    }
   ],
   "source": [
    "import plotly.express as px\n",
    "\n",
    "# Bar Graph with color\n",
    "figure_bar = px.bar(\n",
    "    data_frame=data,\n",
    "    x=transactions,\n",
    "    y=quantity,\n",
    "    color=transactions,  # Use transaction type for color differentiation\n",
    "    title=\"Distribution of Transaction Type\",\n",
    "    labels={'x': 'Transaction Type', 'y': 'Quantity'}\n",
    ")\n",
    "\n",
    "figure_bar.show()\n",
    "\n"
   ]
  },
  {
   "cell_type": "markdown",
   "metadata": {},
   "source": [
    "## this is the type of trasction that are most susceptible to fraud (isFraud)?"
   ]
  },
  {
   "cell_type": "code",
   "execution_count": 12,
   "metadata": {},
   "outputs": [
    {
     "name": "stderr",
     "output_type": "stream",
     "text": [
      "C:\\Users\\hp\\AppData\\Local\\Temp\\ipykernel_3108\\3029146667.py:3: FutureWarning:\n",
      "\n",
      "\n",
      "\n",
      "Passing `palette` without assigning `hue` is deprecated and will be removed in v0.14.0. Assign the `x` variable to `hue` and set `legend=False` for the same effect.\n",
      "\n",
      "\n"
     ]
    },
    {
     "data": {
      "image/png": "[encoded data removed]",
      "text/plain": [
       "<Figure size 640x480 with 1 Axes>"
      ]
     },
     "metadata": {},
     "output_type": "display_data"
    }
   ],
   "source": [
    "# # Use a different seaborn palette\n",
    "fraud_by_type = data.groupby('type')['isFraud'].mean()\n",
    "sns.barplot(x=fraud_by_type.index, y=fraud_by_type.values, palette=\"viridis\")\n",
    "plt.title(\"Fraud Rate by Transaction Type\")\n",
    "plt.xlabel(\"Transaction Type\")\n",
    "plt.ylabel(\"Fraud Rate\")\n",
    "plt.show()\n"
   ]
  },
  {
   "cell_type": "code",
   "execution_count": null,
   "metadata": {},
   "outputs": [],
   "source": [
    "# plt.figure(figsize=(12, 6))\n",
    "# fraud_per_day.plot(kind='line', color='crimson', linewidth=2, marker='o', markersize=6)\n",
    "# plt.title(\"Number of Fraudulent Transactions Per Day\", fontsize=14)\n",
    "# plt.xlabel(\"Day\", fontsize=12)\n",
    "# plt.ylabel(\"Number of Fraudulent Transactions\", fontsize=12)\n",
    "# plt.grid(color='lightgray', linestyle='--', linewidth=0.5)\n",
    "# plt.show()\n"
   ]
  },
  {
   "cell_type": "code",
   "execution_count": 13,
   "metadata": {},
   "outputs": [
    {
     "name": "stderr",
     "output_type": "stream",
     "text": [
      "C:\\Users\\hp\\AppData\\Local\\Temp\\ipykernel_3108\\1920009002.py:10: FutureWarning:\n",
      "\n",
      "\n",
      "\n",
      "`shade` is now deprecated in favor of `fill`; setting `fill=True`.\n",
      "This will become an error in seaborn v0.14.0; please update your code.\n",
      "\n",
      "\n",
      "C:\\Users\\hp\\AppData\\Local\\Temp\\ipykernel_3108\\1920009002.py:11: FutureWarning:\n",
      "\n",
      "\n",
      "\n",
      "`shade` is now deprecated in favor of `fill`; setting `fill=True`.\n",
      "This will become an error in seaborn v0.14.0; please update your code.\n",
      "\n",
      "\n"
     ]
    },
    {
     "data": {
      "image/png": "[encoded data removed]",
      "text/plain": [
       "<Figure size 1000x600 with 1 Axes>"
      ]
     },
     "metadata": {},
     "output_type": "display_data"
    }
   ],
   "source": [
    "# plt.figure(figsize=(10, 6))\n",
    "# sns.violinplot(x='isFraud', y='amount', data=data, palette={0: \"blue\", 1: \"red\"})\n",
    "# plt.title(\"Transaction Amounts (Fraudulent vs Non-Fraudulent)\")\n",
    "# plt.xlabel(\"Fraud Status (0 = Non-Fraudulent, 1 = Fraudulent)\")\n",
    "# plt.ylabel(\"Transaction Amount\")\n",
    "# plt.show()\n",
    "\n",
    "\n",
    "plt.figure(figsize=(10, 6))\n",
    "sns.kdeplot(data[data['isFraud'] == 0]['amount'], label=\"Non-Fraudulent\", shade=True, color=\"blue\")\n",
    "sns.kdeplot(data[data['isFraud'] == 1]['amount'], label=\"Fraudulent\", shade=True, color=\"red\")\n",
    "plt.title(\"Distribution of Transaction Amounts (Fraudulent vs Non-Fraudulent)\")\n",
    "plt.xlabel(\"Transaction Amount\")\n",
    "plt.ylabel(\"Density\")\n",
    "plt.legend()\n",
    "plt.show()"
   ]
  },
  {
   "cell_type": "code",
   "execution_count": 14,
   "metadata": {},
   "outputs": [
    {
     "name": "stdout",
     "output_type": "stream",
     "text": [
      "                    step    amount  oldbalanceOrg  newbalanceOrig  \\\n",
      "step            1.000000  0.022373      -0.010058       -0.010299   \n",
      "amount          0.022373  1.000000      -0.002762       -0.007861   \n",
      "oldbalanceOrg  -0.010058 -0.002762       1.000000        0.998803   \n",
      "newbalanceOrig -0.010299 -0.007861       0.998803        1.000000   \n",
      "oldbalanceDest  0.027665  0.294137       0.066243        0.067812   \n",
      "newbalanceDest  0.025888  0.459304       0.042029        0.041837   \n",
      "isFraud         0.031578  0.076688       0.010154       -0.008148   \n",
      "isFlaggedFraud  0.003277  0.012295       0.003835        0.003776   \n",
      "\n",
      "                oldbalanceDest  newbalanceDest   isFraud  isFlaggedFraud  \n",
      "step                  0.027665        0.025888  0.031578        0.003277  \n",
      "amount                0.294137        0.459304  0.076688        0.012295  \n",
      "oldbalanceOrg         0.066243        0.042029  0.010154        0.003835  \n",
      "newbalanceOrig        0.067812        0.041837 -0.008148        0.003776  \n",
      "oldbalanceDest        1.000000        0.976569 -0.005885       -0.000513  \n",
      "newbalanceDest        0.976569        1.000000  0.000535       -0.000529  \n",
      "isFraud              -0.005885        0.000535  1.000000        0.044109  \n",
      "isFlaggedFraud       -0.000513       -0.000529  0.044109        1.000000  \n"
     ]
    }
   ],
   "source": [
    "numeric_data = data.select_dtypes(include=[np.number])\n",
    "\n",
    "numeric_data = numeric_data.fillna(0)\n",
    "\n",
    "correlation = numeric_data.corr()\n",
    "\n",
    "print(correlation)"
   ]
  },
  {
   "cell_type": "code",
   "execution_count": null,
   "metadata": {},
   "outputs": [],
   "source": [
    "# Print correlation of 'isFraud' with other features if it exists\n",
    "if 'isFraud' in correlation.columns:\n",
    "    print(correlation[\"isFraud\"].sort_values(ascending=False))\n",
    "else:\n",
    "    print(\"'isFraud' column not found in numeric data.\")\n",
    "\n",
    "# Plot heatmap\n",
    "plt.figure(figsize=(12, 10))\n",
    "sns.heatmap(correlation, annot=True,cmap=\"YlGnBu\")\n",
    "plt.show()"
   ]
  },
  {
   "cell_type": "code",
   "execution_count": null,
   "metadata": {},
   "outputs": [],
   "source": [
    "data[\"type\"] = data[\"type\"].map({\"CASH_OUT\": 1, \"PAYMENT\": 2, \n",
    "                                 \"CASH_IN\": 3, \"TRANSFER\": 4,\n",
    "                                 \"DEBIT\": 5})\n",
    "data[\"isFraud\"] = data[\"isFraud\"].map({0: \"No Fraud\", 1: \"Fraud\"})\n",
    "print(data.head())"
   ]
  },
  {
   "cell_type": "code",
   "execution_count": null,
   "metadata": {},
   "outputs": [],
   "source": [
    "# Preprocessing the data\n",
    "\n",
    "x = pd.DataFrame(data[[\"type\", \"amount\", \"oldbalanceOrg\", \"newbalanceOrig\"]])\n",
    "y = pd.DataFrame(data[[\"isFraud\"]])\n"
   ]
  },
  {
   "cell_type": "markdown",
   "metadata": {},
   "source": [
    "## Decision Tree Classifier Applied"
   ]
  },
  {
   "cell_type": "code",
   "execution_count": null,
   "metadata": {},
   "outputs": [],
   "source": [
    "# training a machine learning model\n",
    "from sklearn.tree import DecisionTreeClassifier,plot_tree\n",
    "from sklearn.preprocessing import LabelEncoder\n",
    "from sklearn.model_selection import train_test_split\n",
    "\n",
    "label_encoder = LabelEncoder()\n",
    "x['type'] = label_encoder.fit_transform(x['type'])  # Convert 'type' to numeric values\n",
    "\n",
    "# Split the data into training and testing sets\n",
    "xtrain, xtest, ytrain, ytest = train_test_split(x, y, test_size=0.20, random_state=42)\n",
    "\n",
    "# Train a Decision Tree model\n",
    "model = DecisionTreeClassifier()\n",
    "model.fit(xtrain, ytrain)\n",
    "\n",
    "# Print accuracy score of the model\n",
    "# print(xtrain.shape)\n",
    "print(\"Model Accuracy:\", model.score(xtest, ytest))\n",
    "\n",
    "\n"
   ]
  },
  {
   "cell_type": "code",
   "execution_count": null,
   "metadata": {},
   "outputs": [],
   "source": [
    "# # Calculate accuracy scores\n",
    "# train_accuracy = model.score(xtrain, ytrain)\n",
    "# test_accuracy = model.score(xtest, ytest)\n",
    "\n",
    "# # Print accuracy scores\n",
    "# print(f\"Model Accuracy on Training Data: {train_accuracy:.2f}\")\n",
    "# print(f\"Model Accuracy on Test Data: {test_accuracy:.2f}\")\n",
    "\n",
    "# # Plotting accuracy comparison\n",
    "# labels = ['Training Accuracy', 'Test Accuracy']\n",
    "# accuracy = [train_accuracy, test_accuracy]\n",
    "\n",
    "# plt.figure(figsize=(8, 5))  # Adjust figure size for better clarity\n",
    "# plt.bar(labels, accuracy, color=['blue', 'orange'], alpha=0.7, edgecolor='black')\n",
    "# plt.ylabel('Accuracy')\n",
    "# plt.xlabel('Data Type')\n",
    "# plt.title('Model Accuracy Comparison')\n",
    "# plt.ylim(0, 1)  # Set y-axis limits between 0 and 1\n",
    "# plt.xticks(fontsize=12)\n",
    "# plt.yticks(fontsize=12)\n",
    "# plt.show()\n"
   ]
  },
  {
   "cell_type": "code",
   "execution_count": null,
   "metadata": {},
   "outputs": [],
   "source": [
    "# from sklearn.metrics import roc_curve, auc\n",
    "# from sklearn.preprocessing import LabelEncoder\n",
    "\n",
    "# # Convert 'Fraud' and 'No Fraud' to numerical values\n",
    "# label_encoder = LabelEncoder()\n",
    "# ytest_encoded = label_encoder.fit_transform(ytest)\n",
    "\n",
    "# # Compute ROC curve\n",
    "# fpr, tpr, thresholds = roc_curve(ytest_encoded, model.predict_proba(xtest)[:, 1])\n",
    "\n",
    "# # Compute AUC (Area Under the Curve)\n",
    "# roc_auc = auc(fpr, tpr)\n",
    "# print(roc_auc)\n",
    "\n",
    "# # Plot ROC curve\n",
    "# plt.figure(figsize=(8, 6))\n",
    "# plt.plot(fpr, tpr, color='blue', label=f'ROC curve (AUC = {roc_auc:.2f})')\n",
    "# plt.plot([0, 1], [0, 1], color='gray', linestyle='--')  # Diagonal line (random classifier)\n",
    "# plt.xlabel('False Positive Rate')\n",
    "# plt.ylabel('True Positive Rate')\n",
    "# plt.title('ROC Curve')\n",
    "# plt.legend(loc='lower right')\n",
    "# plt.show()\n"
   ]
  },
  {
   "cell_type": "code",
   "execution_count": null,
   "metadata": {},
   "outputs": [],
   "source": [
    "# from sklearn.metrics import precision_recall_curve\n",
    "# from sklearn.preprocessing import LabelEncoder\n",
    "# import matplotlib.pyplot as plt\n",
    "\n",
    "# # Convert 'Fraud' and 'No Fraud' to numerical values\n",
    "# label_encoder = LabelEncoder()\n",
    "# ytest_encoded = label_encoder.fit_transform(ytest)\n",
    "\n",
    "# # Compute precision-recall curve\n",
    "# precision, recall, _ = precision_recall_curve(ytest_encoded, model.predict_proba(xtest)[:, 1])\n",
    "\n",
    "# # Plot Precision-Recall curve\n",
    "# plt.figure(figsize=(8, 6))\n",
    "# plt.plot(recall, precision, color='blue', label='Precision-Recall curve')\n",
    "# plt.xlabel('Recall')\n",
    "# plt.ylabel('Precision')\n",
    "# plt.title('Precision-Recall Curve')\n",
    "# plt.legend(loc='lower left')\n",
    "# plt.show()\n"
   ]
  },
  {
   "cell_type": "code",
   "execution_count": null,
   "metadata": {},
   "outputs": [],
   "source": [
    "importances = model.feature_importances_\n",
    "feature_names = x.columns\n",
    "\n",
    "# Plot feature importances\n",
    "plt.figure(figsize=(10, 6))\n",
    "plt.bar(feature_names, importances, color='Blue')\n",
    "plt.ylabel('Feature ') \n",
    "plt.xlabel('Importance Fetaures')         \n",
    "plt.title('Feature Importance')\n",
    "plt.xticks(rotation=45)         \n",
    "plt.show()\n"
   ]
  },
  {
   "cell_type": "markdown",
   "metadata": {},
   "source": [
    "## Converting the model to pickle File for Frontant  use\n"
   ]
  },
  {
   "cell_type": "code",
   "execution_count": null,
   "metadata": {},
   "outputs": [],
   "source": [
    "\n",
    "import pickle\n",
    "# Save the model\n",
    "pickle.dump(model, open(\"model.pkl\", \"wb\"))\n"
   ]
  },
  {
   "cell_type": "code",
   "execution_count": null,
   "metadata": {},
   "outputs": [],
   "source": [
    "# loading the model                             \n",
    "model = pickle.load(open(\"model.pkl\", \"rb\"))\n"
   ]
  },
  {
   "cell_type": "markdown",
   "metadata": {},
   "source": [
    "## validaing  the model is predicting correct or not by giving example"
   ]
  },
  {
   "cell_type": "code",
   "execution_count": null,
   "metadata": {},
   "outputs": [],
   "source": [
    "from sklearn.metrics import confusion_matrix\n",
    "y_pred = model.predict([[4, 181.00, 181.0, 0]])\n",
    "print(y_pred)"
   ]
  },
  {
   "cell_type": "markdown",
   "metadata": {},
   "source": [
    "## Applied Model 2.Random Forest Classifier"
   ]
  },
  {
   "cell_type": "code",
   "execution_count": null,
   "metadata": {},
   "outputs": [],
   "source": [
    "# Import required libraries\n",
    "from sklearn.ensemble import RandomForestClassifier\n",
    "from sklearn.preprocessing import LabelEncoder\n",
    "from sklearn.model_selection import train_test_split\n",
    "from sklearn.metrics import accuracy_score, f1_score, precision_score, recall_score, matthews_corrcoef\n",
    "\n",
    "# Label encoding for 'type' column if needed\n",
    "label_encoder = LabelEncoder()\n",
    "x['type'] = label_encoder.fit_transform(x['type'])  # Convert 'type' to numeric values\n",
    "\n",
    "# Encode target variable y into numeric values\n",
    "y_encoded = label_encoder.fit_transform(y)  # 'Fraud' -> 1, 'No Fraud' -> 0\n",
    "\n",
    "# Split the data into training and testing sets\n",
    "xtrain, xtest, ytrain, ytest = train_test_split(x, y_encoded, test_size=0.20, random_state=42)\n",
    "\n",
    "# Initialize Random Forest model\n",
    "rf_model = RandomForestClassifier(random_state=42)\n",
    "\n",
    "# Train the model\n",
    "rf_model.fit(xtrain, ytrain)\n",
    "\n",
    "# Make predictions on the test set\n",
    "y_pred_rf = rf_model.predict(xtest)\n",
    "\n",
    "# Calculate metrics\n",
    "accuracy_rf = accuracy_score(ytest, y_pred_rf)\n",
    "f1_rf = f1_score(ytest, y_pred_rf, pos_label=1)\n",
    "precision_rf = precision_score(ytest, y_pred_rf, pos_label=1)\n",
    "recall_rf = recall_score(ytest, y_pred_rf, pos_label=1)\n",
    "mcc_rf = matthews_corrcoef(ytest, y_pred_rf)\n",
    "\n",
    "# Print the metrics\n",
    "print(\"\\nRandom Forest Metrics:\")\n",
    "print(\"Model Accuracy:\", accuracy_rf)\n",
    "print(\"Classification Accuracy (CA):\", accuracy_rf)  # Classification Accuracy (same as Model Accuracy)\n",
    "print(\"F1 Score:\", f1_rf)\n",
    "print(\"Precision:\", precision_rf)\n",
    "print(\"Recall:\", recall_rf)\n",
    "print(\"Matthews Correlation Coefficient (MCC):\", mcc_rf)\n"
   ]
  },
  {
   "cell_type": "markdown",
   "metadata": {},
   "source": [
    "## Modele 2: K-Neasest Neighbours "
   ]
  },
  {
   "cell_type": "code",
   "execution_count": null,
   "metadata": {},
   "outputs": [],
   "source": [
    "# Import required libraries\n",
    "from sklearn.neighbors import KNeighborsClassifier\n",
    "from sklearn.preprocessing import LabelEncoder\n",
    "from sklearn.model_selection import train_test_split\n",
    "from sklearn.metrics import accuracy_score, f1_score, precision_score, recall_score, matthews_corrcoef\n",
    "\n",
    "# Label encoding for 'type' column if needed\n",
    "label_encoder = LabelEncoder()\n",
    "x['type'] = label_encoder.fit_transform(x['type'])  # Convert 'type' to numeric values\n",
    "\n",
    "# Encode target variable y into numeric values\n",
    "y_encoded = label_encoder.fit_transform(y)  # 'Fraud' -> 1, 'No Fraud' -> 0\n",
    "\n",
    "# Split the data into training and testing sets\n",
    "xtrain, xtest, ytrain, ytest = train_test_split(x, y_encoded, test_size=0.20, random_state=42)\n",
    "\n",
    "# Initialize K-Nearest Neighbors (KNN) model\n",
    "knn_model = KNeighborsClassifier(n_neighbors=5)\n",
    "\n",
    "# Train the model\n",
    "knn_model.fit(xtrain, ytrain)\n",
    "\n",
    "# Make predictions on the test set\n",
    "y_pred_knn = knn_model.predict(xtest)\n",
    "\n",
    "# Calculate metrics\n",
    "accuracy_knn = accuracy_score(ytest, y_pred_knn)\n",
    "f1_knn = f1_score(ytest, y_pred_knn, pos_label=1)\n",
    "precision_knn = precision_score(ytest, y_pred_knn, pos_label=1)\n",
    "recall_knn = recall_score(ytest, y_pred_knn, pos_label=1)\n",
    "mcc_knn = matthews_corrcoef(ytest, y_pred_knn)\n",
    "\n",
    "# Print the metrics\n",
    "print(\"\\nK-Nearest Neighbors (KNN) Metrics:\")\n",
    "print(\"Model Accuracy:\", accuracy_knn)\n",
    "print(\"Classification Accuracy (CA):\", accuracy_knn)  # Classification Accuracy (same as Model Accuracy)\n",
    "print(\"F1 Score:\", f1_knn)\n",
    "print(\"Precision:\", precision_knn)\n",
    "print(\"Recall:\", recall_knn)\n",
    "print(\"Matthews Correlation Coefficient (MCC):\", mcc_knn)\n"
   ]
  },
  {
   "cell_type": "markdown",
   "metadata": {},
   "source": [
    "##  Model 3: Logistic Regression "
   ]
  },
  {
   "cell_type": "code",
   "execution_count": null,
   "metadata": {},
   "outputs": [],
   "source": [
    "# Import required libraries\n",
    "from sklearn.linear_model import LogisticRegression\n",
    "from sklearn.preprocessing import LabelEncoder\n",
    "from sklearn.model_selection import train_test_split\n",
    "from sklearn.metrics import accuracy_score, f1_score, precision_score, recall_score, matthews_corrcoef\n",
    "\n",
    "# Label encoding for 'type' column if needed\n",
    "label_encoder = LabelEncoder()\n",
    "x['type'] = label_encoder.fit_transform(x['type'])  # Convert 'type' to numeric values\n",
    "\n",
    "# Encode target variable y into numeric values\n",
    "y_encoded = label_encoder.fit_transform(y)  # 'Fraud' -> 1, 'No Fraud' -> 0\n",
    "\n",
    "# Split the data into training and testing sets\n",
    "xtrain, xtest, ytrain, ytest = train_test_split(x, y_encoded, test_size=0.20, random_state=42)\n",
    "\n",
    "# Initialize Logistic Regression model\n",
    "log_reg_model = LogisticRegression(random_state=42)\n",
    "\n",
    "# Train the model\n",
    "log_reg_model.fit(xtrain, ytrain)\n",
    "\n",
    "# Make predictions on the test set\n",
    "y_pred = log_reg_model.predict(xtest)\n",
    "\n",
    "# Calculate metrics\n",
    "accuracy = accuracy_score(ytest, y_pred)\n",
    "f1 = f1_score(ytest, y_pred, pos_label=1)\n",
    "precision = precision_score(ytest, y_pred, pos_label=1)\n",
    "recall = recall_score(ytest, y_pred, pos_label=1)\n",
    "mcc = matthews_corrcoef(ytest, y_pred)\n",
    "\n",
    "# Print the metrics\n",
    "print(\"Model Accuracy:\", accuracy)\n",
    "print(\"Classification Accuracy (CA):\", accuracy)  # Classification Accuracy (same as Model Accuracy)\n",
    "print(\"F1 Score:\", f1)\n",
    "print(\"Precision:\", precision)\n",
    "print(\"Recall:\", recall)\n",
    "print(\"Matthews Correlation Coefficient (MCC):\", mcc)\n"
   ]
  },
  {
   "cell_type": "markdown",
   "metadata": {},
   "source": [
    "## Model 4: Gradient Boosting Classifier"
   ]
  },
  {
   "cell_type": "code",
   "execution_count": null,
   "metadata": {},
   "outputs": [],
   "source": [
    "# Import required libraries\n",
    "from sklearn.ensemble import GradientBoostingClassifier\n",
    "from sklearn.preprocessing import LabelEncoder\n",
    "from sklearn.model_selection import train_test_split\n",
    "from sklearn.metrics import accuracy_score, f1_score, precision_score, recall_score, matthews_corrcoef\n",
    "\n",
    "# Label encoding for 'type' column if needed\n",
    "label_encoder = LabelEncoder()\n",
    "x['type'] = label_encoder.fit_transform(x['type'])  # Convert 'type' to numeric values\n",
    "\n",
    "# Encode target variable y into numeric values\n",
    "y_encoded = label_encoder.fit_transform(y)  # 'Fraud' -> 1, 'No Fraud' -> 0\n",
    "\n",
    "# Split the data into training and testing sets\n",
    "xtrain, xtest, ytrain, ytest = train_test_split(x, y_encoded, test_size=0.20, random_state=42)\n",
    "\n",
    "# Initialize Gradient Boosting model\n",
    "gb_model = GradientBoostingClassifier(random_state=42)\n",
    "\n",
    "# Train the model\n",
    "gb_model.fit(xtrain, ytrain)\n",
    "\n",
    "# Make predictions on the test set\n",
    "y_pred_gb = gb_model.predict(xtest)\n",
    "\n",
    "# Calculate metrics\n",
    "accuracy_gb = accuracy_score(ytest, y_pred_gb)\n",
    "f1_gb = f1_score(ytest, y_pred_gb, pos_label=1)\n",
    "precision_gb = precision_score(ytest, y_pred_gb, pos_label=1)\n",
    "recall_gb = recall_score(ytest, y_pred_gb, pos_label=1)\n",
    "mcc_gb = matthews_corrcoef(ytest, y_pred_gb)\n",
    "\n",
    "# Print the metrics\n",
    "print(\"\\nGradient Boosting Metrics:\")\n",
    "print(\"Model Accuracy:\", accuracy_gb)\n",
    "print(\"Classification Accuracy (CA):\", accuracy_gb)  # Classification Accuracy (same as Model Accuracy)\n",
    "print(\"F1 Score:\", f1_gb)\n",
    "print(\"Precision:\", precision_gb)\n",
    "print(\"Recall:\", recall_gb)\n",
    "print(\"Matthews Correlation Coefficient (MCC):\", mcc_gb)\n"
   ]
  },
  {
   "cell_type": "markdown",
   "metadata": {},
   "source": [
    "## model 5:Naive Bayes "
   ]
  },
  {
   "cell_type": "code",
   "execution_count": null,
   "metadata": {},
   "outputs": [],
   "source": [
    "# Import required libraries\n",
    "from sklearn.naive_bayes import GaussianNB\n",
    "from sklearn.metrics import accuracy_score, f1_score, precision_score, recall_score, matthews_corrcoef\n",
    "\n",
    "# Initialize Naive Bayes model\n",
    "nb_model = GaussianNB()\n",
    "\n",
    "# Train the model\n",
    "nb_model.fit(xtrain, ytrain)\n",
    "\n",
    "# Make predictions on the test set\n",
    "y_pred_nb = nb_model.predict(xtest)\n",
    "\n",
    "# Calculate metrics\n",
    "accuracy_nb = accuracy_score(ytest, y_pred_nb)\n",
    "f1_nb = f1_score(ytest, y_pred_nb, pos_label=1)\n",
    "precision_nb = precision_score(ytest, y_pred_nb, pos_label=1)\n",
    "recall_nb = recall_score(ytest, y_pred_nb, pos_label=1)\n",
    "mcc_nb = matthews_corrcoef(ytest, y_pred_nb)\n",
    "\n",
    "# Print metrics\n",
    "print(\"\\nNaive Bayes Metrics:\")\n",
    "print(f\"Model Accuracy: {accuracy_nb:.2f}\")\n",
    "print(f\"Classification Accuracy (CA): {accuracy_nb:.2f}\")\n",
    "print(f\"F1 Score: {f1_nb:.2f}\")\n",
    "print(f\"Precision: {precision_nb:.2f}\")\n",
    "print(f\"Recall: {recall_nb:.2f}\")\n",
    "print(f\"Matthews Correlation Coefficient (MCC): {mcc_nb:.2f}\")\n"
   ]
  },
  {
   "cell_type": "markdown",
   "metadata": {},
   "source": [
    "## Model 6: Neural Network "
   ]
  },
  {
   "cell_type": "code",
   "execution_count": null,
   "metadata": {},
   "outputs": [],
   "source": [
    "# Import required libraries\n",
    "from sklearn.neural_network import MLPClassifier\n",
    "from sklearn.metrics import accuracy_score, f1_score, precision_score, recall_score, matthews_corrcoef\n",
    "\n",
    "# Initialize Neural Network model\n",
    "nn_model = MLPClassifier(\n",
    "    hidden_layer_sizes=(100,),  # One hidden layer with 100 neurons\n",
    "    activation='relu',          # ReLU activation function\n",
    "    solver='adam',              # Adam optimizer\n",
    "    max_iter=300,               # Maximum iterations\n",
    "    random_state=42\n",
    ")\n",
    "\n",
    "# Train the model\n",
    "nn_model.fit(xtrain, ytrain)\n",
    "\n",
    "# Make predictions on the test set\n",
    "y_pred_nn = nn_model.predict(xtest)\n",
    "\n",
    "# Calculate metrics\n",
    "accuracy_nn = accuracy_score(ytest, y_pred_nn)\n",
    "f1_nn = f1_score(ytest, y_pred_nn, pos_label=1)\n",
    "precision_nn = precision_score(ytest, y_pred_nn, pos_label=1)\n",
    "recall_nn = recall_score(ytest, y_pred_nn, pos_label=1)\n",
    "mcc_nn = matthews_corrcoef(ytest, y_pred_nn)\n",
    "\n",
    "# Print metrics\n",
    "print(\"\\nNeural Network Metrics:\")\n",
    "print(f\"Model Accuracy: {accuracy_nn:.2f}\")\n",
    "print(f\"Classification Accuracy (CA): {accuracy_nn:.2f}\")\n",
    "print(f\"F1 Score: {f1_nn:.2f}\")\n",
    "print(f\"Precision: {precision_nn:.2f}\")\n",
    "print(f\"Recall: {recall_nn:.2f}\")\n",
    "print(f\"Matthews Correlation Coefficient (MCC): {mcc_nn:.2f}\")\n"
   ]
  },
  {
   "cell_type": "markdown",
   "metadata": {},
   "source": [
    "## Model 7: Stochastic gradient Descent"
   ]
  },
  {
   "cell_type": "code",
   "execution_count": null,
   "metadata": {},
   "outputs": [],
   "source": [
    "# Import required libraries\n",
    "from sklearn.linear_model import SGDClassifier\n",
    "from sklearn.preprocessing import LabelEncoder\n",
    "from sklearn.model_selection import train_test_split\n",
    "from sklearn.metrics import accuracy_score, f1_score, precision_score, recall_score, matthews_corrcoef\n",
    "\n",
    "# Label encoding for 'type' column if needed\n",
    "label_encoder = LabelEncoder()\n",
    "x['type'] = label_encoder.fit_transform(x['type'])  # Convert 'type' to numeric values\n",
    "\n",
    "# Encode target variable y into numeric values\n",
    "y_encoded = label_encoder.fit_transform(y)  # 'Fraud' -> 1, 'No Fraud' -> 0\n",
    "\n",
    "# Split the data into training and testing sets\n",
    "xtrain, xtest, ytrain, ytest = train_test_split(x, y_encoded, test_size=0.20, random_state=42)\n",
    "\n",
    "# Initialize Stochastic Gradient Descent model\n",
    "sgd_model = SGDClassifier(random_state=42)\n",
    "\n",
    "# Train the model\n",
    "sgd_model.fit(xtrain, ytrain)\n",
    "\n",
    "# Make predictions on the test set\n",
    "y_pred_sgd = sgd_model.predict(xtest)\n",
    "\n",
    "# Calculate metrics\n",
    "accuracy_sgd = accuracy_score(ytest, y_pred_sgd)\n",
    "f1_sgd = f1_score(ytest, y_pred_sgd, pos_label=1)\n",
    "precision_sgd = precision_score(ytest, y_pred_sgd, pos_label=1)\n",
    "recall_sgd = recall_score(ytest, y_pred_sgd, pos_label=1)\n",
    "mcc_sgd = matthews_corrcoef(ytest, y_pred_sgd)\n",
    "\n",
    "# Print the metrics\n",
    "print(\"\\nStochastic Gradient Descent (SGD) Metrics:\")\n",
    "print(\"Model Accuracy:\", accuracy_sgd)\n",
    "print(\"Classification Accuracy (CA):\", accuracy_sgd)  # Classification Accuracy (same as Model Accuracy)\n",
    "print(\"F1 Score:\", f1_sgd)\n",
    "print(\"Precision:\", precision_sgd)\n",
    "print(\"Recall:\", recall_sgd)\n",
    "print(\"Matthews Correlation Coefficient (MCC):\", mcc_sgd)\n"
   ]
  },
  {
   "cell_type": "markdown",
   "metadata": {},
   "source": [
    "## Model 8: SVM (Support Vector Machine)"
   ]
  },
  {
   "cell_type": "code",
   "execution_count": null,
   "metadata": {},
   "outputs": [],
   "source": [
    "# Import required libraries\n",
    "from sklearn.svm import SVC\n",
    "from sklearn.preprocessing import LabelEncoder\n",
    "from sklearn.model_selection import train_test_split\n",
    "from sklearn.metrics import accuracy_score, f1_score, precision_score, recall_score, matthews_corrcoef\n",
    "\n",
    "# Label encoding for 'type' column if needed\n",
    "label_encoder = LabelEncoder()\n",
    "x['type'] = label_encoder.fit_transform(x['type'])  # Convert 'type' to numeric values\n",
    "\n",
    "# Encode target variable y into numeric values\n",
    "y_encoded = label_encoder.fit_transform(y)  # 'Fraud' -> 1, 'No Fraud' -> 0\n",
    "\n",
    "# Split the data into training and testing sets\n",
    "xtrain, xtest, ytrain, ytest = train_test_split(x, y_encoded, test_size=0.20, random_state=42)\n",
    "\n",
    "# Initialize Support Vector Machine model\n",
    "svm_model = SVC(random_state=42)\n",
    "\n",
    "# Train the model\n",
    "svm_model.fit(xtrain, ytrain)\n",
    "\n",
    "# Make predictions on the test set\n",
    "y_pred_svm = svm_model.predict(xtest)\n",
    "\n",
    "# Calculate metrics\n",
    "accuracy_svm = accuracy_score(ytest, y_pred_svm)\n",
    "f1_svm = f1_score(ytest, y_pred_svm, pos_label=1)\n",
    "precision_svm = precision_score(ytest, y_pred_svm, pos_label=1)\n",
    "recall_svm = recall_score(ytest, y_pred_svm, pos_label=1)\n",
    "mcc_svm = matthews_corrcoef(ytest, y_pred_svm)\n",
    "\n",
    "# Print the metrics\n",
    "print(\"\\nSupport Vector Machine (SVM) Metrics:\")\n",
    "print(\"Model Accuracy:\", accuracy_svm)\n",
    "print(\"Classification Accuracy (CA):\", accuracy_svm)  # Classification Accuracy (same as Model Accuracy)\n",
    "print(\"F1 Score:\", f1_svm)\n",
    "print(\"Precision:\", precision_svm)\n",
    "print(\"Recall:\", recall_svm)\n",
    "print(\"Matthews Correlation Coefficient (MCC):\", mcc_svm)\n"
   ]
  },
  {
   "cell_type": "markdown",
   "metadata": {},
   "source": [
    "## Model 9 : AdaBoost"
   ]
  },
  {
   "cell_type": "code",
   "execution_count": null,
   "metadata": {},
   "outputs": [],
   "source": [
    "# Import required libraries\n",
    "from sklearn.ensemble import AdaBoostClassifier\n",
    "from sklearn.preprocessing import LabelEncoder\n",
    "from sklearn.model_selection import train_test_split\n",
    "from sklearn.metrics import accuracy_score, f1_score, precision_score, recall_score, matthews_corrcoef\n",
    "\n",
    "# Label encoding for 'type' column if needed\n",
    "label_encoder = LabelEncoder()\n",
    "x['type'] = label_encoder.fit_transform(x['type'])  # Convert 'type' to numeric values\n",
    "\n",
    "# Encode target variable y into numeric values\n",
    "y_encoded = label_encoder.fit_transform(y)  # 'Fraud' -> 1, 'No Fraud' -> 0\n",
    "\n",
    "# Split the data into training and testing sets\n",
    "xtrain, xtest, ytrain, ytest = train_test_split(x, y_encoded, test_size=0.20, random_state=42)\n",
    "\n",
    "# Initialize AdaBoost model\n",
    "ada_boost_model = AdaBoostClassifier(random_state=42)\n",
    "\n",
    "# Train the model\n",
    "ada_boost_model.fit(xtrain, ytrain)\n",
    "\n",
    "# Make predictions on the test set\n",
    "y_pred_ada_boost = ada_boost_model.predict(xtest)\n",
    "\n",
    "# Calculate metrics\n",
    "accuracy_ada_boost = accuracy_score(ytest, y_pred_ada_boost)\n",
    "f1_ada_boost = f1_score(ytest, y_pred_ada_boost, pos_label=1)\n",
    "precision_ada_boost = precision_score(ytest, y_pred_ada_boost, pos_label=1)\n",
    "recall_ada_boost = recall_score(ytest, y_pred_ada_boost, pos_label=1)\n",
    "mcc_ada_boost = matthews_corrcoef(ytest, y_pred_ada_boost)\n",
    "\n",
    "# Print the metrics\n",
    "print(\"\\nAdaBoost Model Metrics:\")\n",
    "print(\"Model Accuracy:\", accuracy_ada_boost)\n",
    "print(\"Classification Accuracy (CA):\", accuracy_ada_boost)  # Classification Accuracy (same as Model Accuracy)\n",
    "print(\"F1 Score:\", f1_ada_boost)\n",
    "print(\"Precision:\", precision_ada_boost)\n",
    "print(\"Recall:\", recall_ada_boost)\n",
    "print(\"Matthews Correlation Coefficient (MCC):\", mcc_ada_boost)\n"
   ]
  },
  {
   "cell_type": "markdown",
   "metadata": {},
   "source": [
    "##  Model 10: CN7 Rule induction"
   ]
  },
  {
   "cell_type": "code",
   "execution_count": null,
   "metadata": {},
   "outputs": [],
   "source": [
    "# Import required libraries\n",
    "from sklearn.tree import DecisionTreeClassifier\n",
    "from sklearn.preprocessing import LabelEncoder\n",
    "from sklearn.model_selection import train_test_split\n",
    "from sklearn.metrics import accuracy_score, f1_score, precision_score, recall_score, matthews_corrcoef\n",
    "\n",
    "# Label encoding for 'type' column if needed\n",
    "label_encoder = LabelEncoder()\n",
    "x['type'] = label_encoder.fit_transform(x['type'])  # Convert 'type' to numeric values\n",
    "\n",
    "# Encode target variable y into numeric values\n",
    "y_encoded = label_encoder.fit_transform(y)  # 'Fraud' -> 1, 'No Fraud' -> 0\n",
    "\n",
    "# Split the data into training and testing sets\n",
    "xtrain, xtest, ytrain, ytest = train_test_split(x, y_encoded, test_size=0.20, random_state=42)\n",
    "\n",
    "# Initialize DecisionTreeClassifier (a simple rule induction model)\n",
    "rule_induction_model = DecisionTreeClassifier(random_state=42)\n",
    "\n",
    "# Train the model\n",
    "rule_induction_model.fit(xtrain, ytrain)\n",
    "\n",
    "# Make predictions on the test set\n",
    "y_pred_rule_induction = rule_induction_model.predict(xtest)\n",
    "\n",
    "# Calculate metrics\n",
    "accuracy_rule_induction = accuracy_score(ytest, y_pred_rule_induction)\n",
    "f1_rule_induction = f1_score(ytest, y_pred_rule_induction, pos_label=1)\n",
    "precision_rule_induction = precision_score(ytest, y_pred_rule_induction, pos_label=1)\n",
    "recall_rule_induction = recall_score(ytest, y_pred_rule_induction, pos_label=1)\n",
    "mcc_rule_induction = matthews_corrcoef(ytest, y_pred_rule_induction)\n",
    "\n",
    "# Print the metrics\n",
    "print(\"\\nRule Induction Model (via Decision Tree) Metrics:\")\n",
    "print(\"Model Accuracy:\", accuracy_rule_induction)\n",
    "print(\"Classification Accuracy (CA):\", accuracy_rule_induction)  # Classification Accuracy (same as Model Accuracy)\n",
    "print(\"F1 Score:\", f1_rule_induction)\n",
    "print(\"Precision:\", precision_rule_induction)\n",
    "print(\"Recall:\", recall_rule_induction)\n",
    "print(\"Matthews Correlation Coefficient (MCC):\", mcc_rule_induction)\n"
   ]
  },
  {
   "cell_type": "markdown",
   "metadata": {},
   "source": [
    "## Model 11: Constant"
   ]
  },
  {
   "cell_type": "code",
   "execution_count": null,
   "metadata": {},
   "outputs": [],
   "source": []
  },
  {
   "cell_type": "markdown",
   "metadata": {},
   "source": [
    "## Model 12 :  XGBoost (Extreme Gradient Boosting)"
   ]
  },
  {
   "cell_type": "code",
   "execution_count": null,
   "metadata": {},
   "outputs": [],
   "source": [
    "from xgboost import XGBClassifier\n",
    "from sklearn.metrics import accuracy_score, f1_score, precision_score, recall_score, matthews_corrcoef\n",
    "\n",
    "# Initialize XGBoost model\n",
    "xgb_model = XGBClassifier(random_state=42)\n",
    "\n",
    "# Train the model\n",
    "xgb_model.fit(xtrain, ytrain)\n",
    "\n",
    "# Make predictions\n",
    "y_pred_xgb = xgb_model.predict(xtest)\n",
    "\n",
    "# Calculate metrics\n",
    "accuracy_xgb = accuracy_score(ytest, y_pred_xgb)\n",
    "f1_xgb = f1_score(ytest, y_pred_xgb, pos_label=1)\n",
    "precision_xgb = precision_score(ytest, y_pred_xgb, pos_label=1)\n",
    "recall_xgb = recall_score(ytest, y_pred_xgb, pos_label=1)\n",
    "mcc_xgb = matthews_corrcoef(ytest, y_pred_xgb)\n",
    "\n",
    "# Print the metrics\n",
    "print(\"XGBoost Model Metrics:\")\n",
    "print(\"Accuracy:\", accuracy_xgb)\n",
    "print(\"F1 Score:\", f1_xgb)\n",
    "print(\"Precision:\", precision_xgb)\n",
    "print(\"Recall:\", recall_xgb)\n",
    "print(\"MCC:\", mcc_xgb)\n"
   ]
  },
  {
   "cell_type": "markdown",
   "metadata": {},
   "source": [
    "## Model 13: LightGBM (Light Gradient Boosting Machine)"
   ]
  },
  {
   "cell_type": "code",
   "execution_count": null,
   "metadata": {},
   "outputs": [],
   "source": [
    "from lightgbm import LGBMClassifier\n",
    "\n",
    "# Initialize LightGBM model\n",
    "lgbm_model = LGBMClassifier(random_state=42)\n",
    "\n",
    "# Train the model\n",
    "lgbm_model.fit(xtrain, ytrain)\n",
    "\n",
    "# Make predictions\n",
    "y_pred_lgbm = lgbm_model.predict(xtest)\n",
    "\n",
    "# Calculate metrics\n",
    "accuracy_lgbm = accuracy_score(ytest, y_pred_lgbm)\n",
    "f1_lgbm = f1_score(ytest, y_pred_lgbm, pos_label=1)\n",
    "precision_lgbm = precision_score(ytest, y_pred_lgbm, pos_label=1)\n",
    "recall_lgbm = recall_score(ytest, y_pred_lgbm, pos_label=1)\n",
    "mcc_lgbm = matthews_corrcoef(ytest, y_pred_lgbm)\n",
    "\n",
    "# Print the metrics\n",
    "print(\"LightGBM Model Metrics:\")\n",
    "print(\"Accuracy:\", accuracy_lgbm)\n",
    "print(\"F1 Score:\", f1_lgbm)\n",
    "print(\"Precision:\", precision_lgbm)\n",
    "print(\"Recall:\", recall_lgbm)\n",
    "print(\"MCC:\", mcc_lgbm)\n"
   ]
  },
  {
   "cell_type": "markdown",
   "metadata": {},
   "source": [
    "## MOdel 14:  Catboost"
   ]
  },
  {
   "cell_type": "code",
   "execution_count": null,
   "metadata": {},
   "outputs": [],
   "source": [
    "from catboost import CatBoostClassifier\n",
    "from sklearn.metrics import accuracy_score, f1_score, precision_score, recall_score, matthews_corrcoef\n",
    "\n",
    "# Initialize CatBoost model\n",
    "catboost_model = CatBoostClassifier(random_state=42, verbose=0)\n",
    "\n",
    "# Train the model\n",
    "catboost_model.fit(xtrain, ytrain)\n",
    "\n",
    "# Make predictions\n",
    "y_pred_catboost = catboost_model.predict(xtest)\n",
    "\n",
    "# Calculate metrics\n",
    "accuracy_catboost = accuracy_score(ytest, y_pred_catboost)\n",
    "f1_catboost = f1_score(ytest, y_pred_catboost, pos_label=1)\n",
    "precision_catboost = precision_score(ytest, y_pred_catboost, pos_label=1)\n",
    "recall_catboost = recall_score(ytest, y_pred_catboost, pos_label=1)\n",
    "mcc_catboost = matthews_corrcoef(ytest, y_pred_catboost)\n",
    "\n",
    "# Print the metrics\n",
    "print(\"CatBoost Model Metrics:\")\n",
    "print(\"Accuracy:\", accuracy_catboost)\n",
    "print(\"F1 Score:\", f1_catboost)\n",
    "print(\"Precision:\", precision_catboost)\n",
    "print(\"Recall:\", recall_catboost)\n",
    "print(\"MCC:\", mcc_catboost)\n"
   ]
  },
  {
   "cell_type": "markdown",
   "metadata": {},
   "source": [
    "## Comparision "
   ]
  },
  {
   "cell_type": "code",
   "execution_count": null,
   "metadata": {},
   "outputs": [],
   "source": [
    "import matplotlib.pyplot as plt\n",
    "import numpy as np\n",
    "\n",
    "# Store metrics for each model\n",
    "models = ['Logistic Regression', 'KNN', 'Random Forest', 'SVM', 'AdaBoost', 'LightGBM', 'CatBoost']\n",
    "accuracy = [accuracy_log_reg, accuracy_knn, accuracy_rf, accuracy_svm, accuracy_ada, accuracy_lgbm, accuracy_catboost]\n",
    "f1_score_list = [f1_log_reg, f1_knn, f1_rf, f1_svm, f1_ada, f1_lgbm, f1_catboost]\n",
    "precision = [precision_log_reg, precision_knn, precision_rf, precision_svm, precision_ada, precision_lgbm, precision_catboost]\n",
    "recall = [recall_log_reg, recall_knn, recall_rf, recall_svm, recall_ada, recall_lgbm, recall_catboost]\n",
    "mcc = [mcc_log_reg, mcc_knn, mcc_rf, mcc_svm, mcc_ada, mcc_lgbm, mcc_catboost]\n",
    "\n",
    "# Create an index for each metric\n",
    "index = np.arange(len(models))\n",
    "\n",
    "# Plotting the metrics\n",
    "fig, axes = plt.subplots(2, 2, figsize=(12, 10))\n",
    "\n",
    "# Plot Accuracy\n",
    "axes[0, 0].bar(index, accuracy, color='blue', alpha=0.7)\n",
    "axes[0, 0].set_title('Accuracy Comparison')\n",
    "axes[0, 0].set_xticks(index)\n",
    "axes[0, 0].set_xticklabels(models, rotation=45, ha='right')\n",
    "\n",
    "# Plot F1 Score\n",
    "axes[0, 1].bar(index, f1_score_list, color='green', alpha=0.7)\n",
    "axes[0, 1].set_title('F1 Score Comparison')\n",
    "axes[0, 1].set_xticks(index)\n",
    "axes[0, 1].set_xticklabels(models, rotation=45, ha='right')\n",
    "\n",
    "# Plot Precision\n",
    "axes[1, 0].bar(index, precision, color='orange', alpha=0.7)\n",
    "axes[1, 0].set_title('Precision Comparison')\n",
    "axes[1, 0].set_xticks(index)\n",
    "axes[1, 0].set_xticklabels(models, rotation=45, ha='right')\n",
    "\n",
    "# Plot Recall\n",
    "axes[1, 1].bar(index, recall, color='red', alpha=0.7)\n",
    "axes[1, 1].set_title('Recall Comparison')\n",
    "axes[1, 1].set_xticks(index)\n",
    "axes[1, 1].set_xticklabels(models, rotation=45, ha='right')\n",
    "\n",
    "# Display the plot\n",
    "plt.tight_layout()\n",
    "plt.show()\n",
    "\n",
    "# Plot MCC\n",
    "plt.figure(figsize=(10, 6))\n",
    "plt.bar(models, mcc, color='purple', alpha=0.7)\n",
    "plt.title('Matthews Correlation Coefficient (MCC) Comparison')\n",
    "plt.xticks(rotation=45, ha='right')\n",
    "plt.show()\n"
   ]
  }
 ],
 "metadata": {
  "kernelspec": {
   "display_name": "Python 3",
   "language": "python",
   "name": "python3"
  },
  "language_info": {
   "codemirror_mode": {
    "name": "ipython",
    "version": 3
   },
   "file_extension": ".py",
   "mimetype": "text/x-python",
   "name": "python",
   "nbconvert_exporter": "python",
   "pygments_lexer": "ipython3",
   "version": "3.12.3"
  }
 },
 "nbformat": 4,
 "nbformat_minor": 4
}
